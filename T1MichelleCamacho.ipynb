{
 "cells": [
  {
   "cell_type": "markdown",
   "metadata": {},
   "source": [
    "# Información Personal\n",
    "\n",
    "   Mi nombre es Michelle Camacho, tengo 19 años y soy de Guamúchil, una pequeña ciudad del estado de Sinaloa. Estudio ingeniería en nanotecnología y voy a pasar a 5to semestre. Algunas de las razones por las que elegí esta carrera son:\n",
    "    \n",
    "   * Porque al ser una carrera muy versátil tiene mucho campo laboral.\n",
    "   * Porque en México aún no hay mucha gente que conoce al respecto y creo que ese debe de cambiar ya que es una ciencia muy importante en la actualidad. \n",
    "   * Porque es una ciencia muy prometedora para avances tanto tecnológicos, como científicos y médicos.\n",
    "   * Porque al ser una carrera relativamente nueva existe mucho por investigar.\n",
    "    \n",
    "# Síntesis \n",
    "\n",
    "## Resumen 1. Spotlight: Why Python Training Is Totally Worth It\n",
    "\n",
    "   El artículo habla sobre por qué los usuarios deberían gastar su tiempo y dinero en el entrenamiento de Python. La primera razón de la que habla el texto es que empezar con Python es muy fácil, ya que muchas computadoras con diferentes sistemas operativos hoy en día ya lo traen instalado y listo para usar.  Además, si no es la situación, su instalación es tan simple como instalar cualquier otra aplicación.\n",
    "   \n",
    "   Asimismo, este programa va dirigido a casi cualquier usuario ya que va desde propósitos generales hasta funciones de programación de nivel superior y cuenta con una amplia variedad de aplicaciones. Gracias a lo anterior y a su gran biblioteca y compatibilidad con la mayoría de los sistemas principales, Python se convierte en un programa muy amigable con los usuarios principiantes.\n",
    "   \n",
    "   Otra de las razones que señala el texto es la popularidad que están tomando los frameworks de Python para el desarrollo web. Algunos mencionados son Flask y Django, el primero mejor trabajado por los nuevos usuarios y el segundo para aquellos que buscan un vehículo más rápido para crear proyectos de desarrollo sencillos. También hace referencia a que Python y el aprendizaje automático están estrictamente ligados entre sí. Este sistema es útil para implementar algoritmos que pueden detectar patrones y para las aplicaciones derivadas de esto utilizadas por Amazon y YouTube.\n",
    "\n",
    "Por ultimo el artículo habla sobre lo fácil que es enseñar los principios de Python, sin embargo, cuando se habla de niveles más altos de programación considerar entrenamiento de Python es la mejor opción ya que abre muchas opciones a compañías, por ejemplo, el uso de aplicaciones más complejas. Esto ayudar a reducir mucha presión a la hora de organizarse para entrenamiento fuera del horario laboral. \n",
    "\n",
    "## Resumen 2. Python is becoming the world’s most popular coding language\n",
    "\n",
    "El segundo artículo habla un poco sobre la historia de Python y cómo hoy en día se ha vuelto un lenguaje masivo de programación. Dicho programa fue creado por Guido Van Rossum, un holandés, en el año 1989. Hoy en día, tres décadas después, su invento ha superado a toda la competencia volviéndose muy popular entre los usuarios y dejando los otros lenguajes de programación en disminución. El texto una ejemplificación para visualizar la magnitud de esto comparando las búsquedas en Google de Kim Kardashian contra Python, siendo visitado con más frecuencia este programa.\n",
    "\n",
    "También se mencionan las ventajas, las cuales son su simplicidad y flexibilidad. Elementos como la sangría y sus sintaxis directa hace mucho más ameno el trabajo de leer y compartir. Además, los conocidos como Pythonistas se han encargo de subir más de 145 mil paquetes de software que van desde juegos hasta astronomía. Gracias a estos paquetes empresas mundialmente reconocidas, como Pixar, Google y Spotify, los utilizan para distintas funciones. \n",
    "\n",
    "Finalmente señala que a pesar del rápido crecimiento de usuarios y su amplia gama de capacidades, es muy poco probable que deje obsoletos a los demás competidores según Gray Booch, un científico jefe de software de IBM. Esto debido a que los demás competidores van dirigidos a otros tipos de usuarios, por ejemplo, C y C++ son opciones de nivel inferior que le dan usuario más control sobre lo que está sucediendo en el procesador de una computadora y los mismo pasa con Java. Además de que ningún imperio, por más grande que sea, puede durar para siempre. \n",
    "\n",
    "\n"
   ]
  },
  {
   "cell_type": "code",
   "execution_count": null,
   "metadata": {},
   "outputs": [],
   "source": []
  }
 ],
 "metadata": {
  "kernelspec": {
   "display_name": "Python 3",
   "language": "python",
   "name": "python3"
  },
  "language_info": {
   "codemirror_mode": {
    "name": "ipython",
    "version": 3
   },
   "file_extension": ".py",
   "mimetype": "text/x-python",
   "name": "python",
   "nbconvert_exporter": "python",
   "pygments_lexer": "ipython3",
   "version": "3.7.3"
  }
 },
 "nbformat": 4,
 "nbformat_minor": 2
}
