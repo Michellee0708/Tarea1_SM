{
 "cells": [
  {
   "cell_type": "markdown",
   "metadata": {},
   "source": [
    "# Información Personal\n",
    "\n",
    "   Mi nombre es Michelle Camacho, tengo 19 años y soy de Guamúchil, una pequeña ciudad del estado de Sinaloa. Estudio ingeniería en nanotecnología y voy a pasar a 5to semestre. Algunas de las razones por las que elegí esta carrera son:\n",
    "    \n",
    "   * Porque al ser una carrera muy versátil tiene mucho campo laboral.\n",
    "   * Porque en México aún no hay mucha gente que conoce al respecto y creo que ese debe de cambiar ya que es una ciencia muy importante en la actualidad. \n",
    "   * Porque es una ciencia muy prometedora para avances tanto tecnológicos, como científicos y médicos.\n",
    "   * Porque al ser una carrera relativamente nueva existe mucho por investigar.\n",
    "    \n",
    "# Síntesis \n",
    "\n",
    "## Resume 1. Spotlight: Why Python Training Is Totally Worth It\n",
    "\n",
    "   El artículo habla sobre por qué los usuarios deberían gastar su tiempo y dinero en el entrenamiento de Python. La primera razón de la que habla el texto es que empezar con Python es muy fácil, ya que muchas computadoras con diferentes sistemas operativos hoy en día ya lo traen instalado y listo para usar.  Además, si no es la situación, su instalación es tan simple como instalar cualquier otra aplicación.\n",
    "   \n",
    "   Asimismo, este programa va dirigido a casi cualquier usuario ya que va desde propósitos generales hasta funciones de programación de nivel superior y cuenta con una amplia variedad de aplicaciones. Gracias a lo anterior y a su gran biblioteca y compatibilidad con la mayoría de los sistemas principales, Python se convierte en un programa muy amigable con los usuarios principiantes.\n",
    "   \n",
    "   Otra de las razones que señala el texto es la popularidad que están tomando los frameworks de Python para el desarrollo web. Algunos mencionados son Flask y Django, el primero mejor trabajado por los nuevos usuarios y el segundo para aquellos que buscan un vehículo más rápido para crear proyectos de desarrollo sencillos. También hace referencia a que Python y el aprendizaje automático están estrictamente ligados entre sí. Este sistema es útil para implementar algoritmos que pueden detectar patrones y para las aplicaciones derivadas de esto utilizadas por Amazon y YouTube.\n",
    "\n"
   ]
  },
  {
   "cell_type": "code",
   "execution_count": null,
   "metadata": {},
   "outputs": [],
   "source": []
  }
 ],
 "metadata": {
  "kernelspec": {
   "display_name": "Python 3",
   "language": "python",
   "name": "python3"
  },
  "language_info": {
   "codemirror_mode": {
    "name": "ipython",
    "version": 3
   },
   "file_extension": ".py",
   "mimetype": "text/x-python",
   "name": "python",
   "nbconvert_exporter": "python",
   "pygments_lexer": "ipython3",
   "version": "3.7.3"
  }
 },
 "nbformat": 4,
 "nbformat_minor": 2
}
